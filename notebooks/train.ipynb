{
 "cells": [
  {
   "cell_type": "markdown",
   "metadata": {},
   "source": [
    "# SAS - Распознавание повреждений"
   ]
  },
  {
   "cell_type": "markdown",
   "metadata": {},
   "source": [
    "## Задача\n",
    "Обучить модель классификации типов повреждении автомобилей.\n",
    "\n",
    "## Требуемое качество\n",
    "Misclassification Error (%) < 30 % на тестовой выборке.\n",
    "\n",
    "## Файлы и проект\n",
    "Для создания проекта, Вам необходимо скопировать текущий ноутбук и все файлы из данного репозитория на сервер tiger.cs.msu.ru по SSH в свою домашнюю директорию.\n",
    "Доступ к проекту может быть получен через JupyterHub (см. ниже).\n",
    "\n",
    "## Решение\n",
    "Ноутбук + обученные веса модели + все необходимый дополнительные файлы, если таковые имеются.\n",
    "\n",
    "## Проверка решения\n",
    "Ноутбук будет запущен на отдельном сервере с анологичной конфигурацией пакетов и железа.  \n",
    "Если ноутбук не запускается по причине ошибок в коде, задача отправляется на доработку.  \n",
    "Результаты модели полученной после запуска ноутбука будут сравниваться с результатами присланной модели.  \n",
    "\n",
    "## Подключение к CAS\n",
    "Используйте личную учетную запись.\n",
    "\n",
    "## Подключение к серверу через SSH\n",
    "Используйте личную учетную запись.\n",
    "Для подключения к серверу по SSH рекомендую использовать [MobaXterm](https://mobaxterm.mobatek.net/download.html).\n",
    "\n",
    "## Jupyter Hub\n",
    "Ссылка на Jupyter Hub: tiger.cs.msu.ru:8000  \n",
    "Используйте личную учетную запись.\n",
    "\n",
    "## Полезные ссылки\n",
    "\n",
    "[SWAT](https://github.com/sassoftware/python-swat)  \n",
    "[DLPy](https://github.com/sassoftware/python-dlpy)  \n",
    "[Deep Learning Programming Guide](https://go.documentation.sas.com/?cdcId=pgmsascdc&cdcVersion=9.4_3.5&docsetId=casdlpg&docsetTarget=titlepage.htm&locale=en)  \n",
    "[SAS Deep Learning Concepts](https://go.documentation.sas.com/?cdcId=pgmsascdc&cdcVersion=9.4_3.5&docsetId=casdlpg&docsetTarget=n0s7fuxsukkyl6n18qqrblkvn02v.htm&locale=en) "
   ]
  },
  {
   "cell_type": "code",
   "execution_count": null,
   "metadata": {},
   "outputs": [],
   "source": [
    "import os\n",
    "import sys\n",
    "import pandas as pd\n",
    "from swat import *\n",
    "import dlpy\n",
    "from dlpy.utils import *\n",
    "import dlpy.applications as app\n",
    "from dlpy.applications import *\n",
    "from dlpy.model import *\n",
    "from dlpy.images import *\n",
    "import dlpy.applications as app\n",
    "from dlpy.splitting import two_way_split\n",
    "from dlpy.lr_scheduler import ReduceLROnPlateau, StepLR\n",
    "import warnings\n",
    "warnings.simplefilter(action='ignore', category=FutureWarning)\n",
    "\n",
    "pd.set_option('display.max_rows', 500)\n",
    "pd.set_option('display.max_columns', 500)"
   ]
  },
  {
   "cell_type": "code",
   "execution_count": null,
   "metadata": {},
   "outputs": [],
   "source": [
    "# os.environ['CAS_CLIENT_SSL_CA_LIST']='/opt/sas/viya/config/etc/SASSecurityCertificateFramework/cacerts/vault-ca.crt'\n",
    "\n",
    "HOST=''\n",
    "PORT=5572\n",
    "USERNAME=''\n",
    "PASSWORD=''\n",
    "\n",
    "s = CAS(HOST, PORT, USERNAME, PASSWORD)\n",
    "s.loadactionset('image')\n",
    "s.loadactionset('deepLearn')"
   ]
  },
  {
   "cell_type": "code",
   "execution_count": null,
   "metadata": {},
   "outputs": [],
   "source": [
    "HOME_DIR = ''\n",
    "TRAIN_DIR = os.path.join(HOME_DIR, 'data/prepared_dataset/train/')\n",
    "TEST_DIR = os.path.join(HOME_DIR, 'data/prepared_dataset/test')\n",
    "WEIGHTS_DIR = os.path.join(HOME_DIR, 'weights')"
   ]
  },
  {
   "cell_type": "markdown",
   "metadata": {},
   "source": [
    "# Загрузка данных"
   ]
  },
  {
   "cell_type": "code",
   "execution_count": null,
   "metadata": {},
   "outputs": [],
   "source": [
    "train_tbl = ImageTable.load_files(s, path=TRAIN_DIR, casout=dict(name='train_tbl'))\n",
    "train_tbl, val_tbl = two_way_split(tbl=train_tbl, test_rate=20, im_table=True, stratify=True)\n",
    "test_tbl = ImageTable.load_files(s, path=TEST_DIR, casout=dict(name='test_tbl'))"
   ]
  },
  {
   "cell_type": "code",
   "execution_count": null,
   "metadata": {},
   "outputs": [],
   "source": [
    "train_tbl.resize(256,256,inplace=True)\n",
    "val_tbl.resize(256,256,inplace=True)\n",
    "test_tbl.resize(256,256,inplace=True)"
   ]
  },
  {
   "cell_type": "code",
   "execution_count": null,
   "metadata": {},
   "outputs": [],
   "source": [
    "train_tbl.label_freq"
   ]
  },
  {
   "cell_type": "code",
   "execution_count": null,
   "metadata": {
    "scrolled": true
   },
   "outputs": [],
   "source": [
    "val_tbl.label_freq"
   ]
  },
  {
   "cell_type": "code",
   "execution_count": null,
   "metadata": {
    "scrolled": false
   },
   "outputs": [],
   "source": [
    "train_tbl.show(randomize=True,ncol=3)"
   ]
  },
  {
   "cell_type": "code",
   "execution_count": null,
   "metadata": {},
   "outputs": [],
   "source": [
    "val_tbl.show(randomize=True,ncol=3)"
   ]
  },
  {
   "cell_type": "markdown",
   "metadata": {},
   "source": [
    "# Построение модели"
   ]
  },
  {
   "cell_type": "code",
   "execution_count": null,
   "metadata": {},
   "outputs": [],
   "source": [
    "from dlpy.sequential import Sequential\n",
    "from dlpy.layers import InputLayer, Conv2d, BN, Pooling, OutputLayer, Dense, Reshape"
   ]
  },
  {
   "cell_type": "code",
   "execution_count": null,
   "metadata": {},
   "outputs": [],
   "source": [
    "MODEL_TABLE='car_damage_recognition_model'\n",
    "IN_CHANNELS=3\n",
    "OUT_CLASSES=8\n",
    "WIDTH=256\n",
    "HEIGHT=256\n",
    "SCALE=1\n",
    "OFFSETS=(103.939, 116.779, 123.68)\n",
    "\n",
    "model = Sequential(conn=s, model_table=MODEL_TABLE)\n",
    "\n",
    "model.add(InputLayer(\n",
    "    n_channels=IN_CHANNELS,\n",
    "    width=WIDTH,\n",
    "    height=HEIGHT,\n",
    "    name=MODEL_TABLE,\n",
    "    scale=SCALE,\n",
    "))"
   ]
  },
  {
   "cell_type": "markdown",
   "metadata": {},
   "source": [
    "![VGG-11](vgg11.png)\n",
    "\n",
    "* Размеры всех сверточных фильтров - 3x3  \n",
    "* Размеры всех пулинг фильтров - 2x2  \n",
    "* Добавьте после сверточных слоев batch normalization слои"
   ]
  },
  {
   "cell_type": "code",
   "execution_count": null,
   "metadata": {},
   "outputs": [],
   "source": [
    "# TODO: Воссоздайте архитектуру сети VGG-11 в Sequential стиле"
   ]
  },
  {
   "cell_type": "code",
   "execution_count": null,
   "metadata": {
    "scrolled": true
   },
   "outputs": [],
   "source": [
    "model.print_summary()"
   ]
  },
  {
   "cell_type": "code",
   "execution_count": null,
   "metadata": {
    "scrolled": true
   },
   "outputs": [],
   "source": [
    "model.plot_network()"
   ]
  },
  {
   "cell_type": "markdown",
   "metadata": {},
   "source": [
    "# Обучение"
   ]
  },
  {
   "cell_type": "code",
   "execution_count": null,
   "metadata": {},
   "outputs": [],
   "source": [
    "# TODO: Инициализируем step learning rate policy с параметром gamma=0.1"
   ]
  },
  {
   "cell_type": "code",
   "execution_count": null,
   "metadata": {},
   "outputs": [],
   "source": [
    "# TODO: Инициализируем Momentum solver с параметрами  mini_batch_size=4, seed=17, max_epochs=10"
   ]
  },
  {
   "cell_type": "markdown",
   "metadata": {},
   "source": [
    "## Обучение модели"
   ]
  },
  {
   "cell_type": "code",
   "execution_count": null,
   "metadata": {},
   "outputs": [],
   "source": [
    "model.fit(data=train_tbl, \n",
    "           optimizer=optimizer, \n",
    "           n_threads=1, \n",
    "           seed=17,\n",
    "           record_seed=17,\n",
    "           force_equal_padding=True,\n",
    "           save_best_weights=True,\n",
    "           valid_table=val_tbl)"
   ]
  },
  {
   "cell_type": "code",
   "execution_count": null,
   "metadata": {},
   "outputs": [],
   "source": [
    "model.plot_training_history(items=['Loss', 'FitError', 'ValidLoss', 'ValidError'])"
   ]
  },
  {
   "cell_type": "markdown",
   "metadata": {},
   "source": [
    "## Сохранение модели на диск в табличном виде"
   ]
  },
  {
   "cell_type": "code",
   "execution_count": null,
   "metadata": {
    "scrolled": true
   },
   "outputs": [],
   "source": [
    "model.save_to_table(WEIGHTS_DIR)"
   ]
  },
  {
   "cell_type": "markdown",
   "metadata": {},
   "source": [
    "# Применение модели"
   ]
  },
  {
   "cell_type": "markdown",
   "metadata": {},
   "source": [
    "## Загрузка модели с диска в табличном виде"
   ]
  },
  {
   "cell_type": "code",
   "execution_count": null,
   "metadata": {},
   "outputs": [],
   "source": [
    "model = Model(s)\n",
    "model.load(os.path.join(WEIGHTS_DIR, 'car_damage_recognition_resnet50.sashdat'))"
   ]
  },
  {
   "cell_type": "code",
   "execution_count": null,
   "metadata": {},
   "outputs": [],
   "source": [
    "model.predict(val_tbl,\n",
    "              layer_out='output',\n",
    "              layers=['output'],\n",
    "              mini_batch_buf_size=2,\n",
    "              use_best_weights=True,\n",
    "              buffer_size=2,\n",
    "              n_threads=8,\n",
    "              log_level=2,\n",
    "              gpu=gpu)"
   ]
  },
  {
   "cell_type": "code",
   "execution_count": null,
   "metadata": {},
   "outputs": [],
   "source": [
    "model.predict(test_tbl,\n",
    "              layer_out='output',\n",
    "              layers=['output'],\n",
    "              mini_batch_buf_size=2,\n",
    "              use_best_weights=True,\n",
    "              buffer_size=2,\n",
    "              n_threads=8,\n",
    "              log_level=2,\n",
    "              gpu=gpu)"
   ]
  },
  {
   "cell_type": "markdown",
   "metadata": {},
   "source": [
    "# Матрица ошибок"
   ]
  },
  {
   "cell_type": "code",
   "execution_count": null,
   "metadata": {},
   "outputs": [],
   "source": [
    "model.valid_res_tbl.crosstab(row='_label_', col='I__label_')"
   ]
  },
  {
   "cell_type": "markdown",
   "metadata": {},
   "source": [
    "# Отображение результатов"
   ]
  },
  {
   "cell_type": "code",
   "execution_count": null,
   "metadata": {
    "scrolled": false
   },
   "outputs": [],
   "source": [
    "model.plot_evaluate_res(img_type='A', n_images=5, randomize=True)"
   ]
  }
 ],
 "metadata": {
  "kernelspec": {
   "display_name": "CV2_P37",
   "language": "python",
   "name": "cv2_p37"
  },
  "language_info": {
   "codemirror_mode": {
    "name": "ipython",
    "version": 3
   },
   "file_extension": ".py",
   "mimetype": "text/x-python",
   "name": "python",
   "nbconvert_exporter": "python",
   "pygments_lexer": "ipython3",
   "version": "3.7.5"
  }
 },
 "nbformat": 4,
 "nbformat_minor": 2
}
